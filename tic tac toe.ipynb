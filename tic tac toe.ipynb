{
 "cells": [
  {
   "cell_type": "code",
   "execution_count": 18,
   "id": "dd07b761",
   "metadata": {},
   "outputs": [],
   "source": [
    "import tkinter as tk\n",
    "from tkinter import messagebox"
   ]
  },
  {
   "cell_type": "code",
   "execution_count": 19,
   "id": "da2d34b8",
   "metadata": {},
   "outputs": [
    {
     "data": {
      "text/plain": [
       "''"
      ]
     },
     "execution_count": 19,
     "metadata": {},
     "output_type": "execute_result"
    }
   ],
   "source": [
    "# Create the GUI\n",
    "root = tk.Tk()\n",
    "root.title(\"Tic Tac Toe\")\n"
   ]
  },
  {
   "cell_type": "code",
   "execution_count": 20,
   "id": "6d535264",
   "metadata": {},
   "outputs": [],
   "source": [
    "# Set the initial player\n",
    "current_player = \"X\""
   ]
  },
  {
   "cell_type": "code",
   "execution_count": 21,
   "id": "0e65ce19",
   "metadata": {},
   "outputs": [],
   "source": [
    "# Create the buttons\n",
    "buttons = []\n",
    "for row in range(3):\n",
    "    button_row = []\n",
    "    for col in range(3):\n",
    "        button = tk.Button(root, text=\" \", width=10, height=5,\n",
    "                           command=lambda row=row, col=col: on_button_click(row, col))\n",
    "        button.grid(row=row, column=col, sticky=\"nsew\")\n",
    "        button_row.append(button)\n",
    "    buttons.append(button_row)\n"
   ]
  },
  {
   "cell_type": "code",
   "execution_count": 22,
   "id": "63fdce04",
   "metadata": {},
   "outputs": [],
   "source": [
    "# Create the function that will run when a button is clicked\n",
    "def on_button_click(row, col):\n",
    "    global current_player\n",
    "    button = buttons[row][col]\n",
    "    if button[\"text\"] == \" \":\n",
    "        button[\"text\"] = current_player\n",
    "        if has_won(current_player):\n",
    "            messagebox.showinfo(\"Tic Tac Toe\", f\"{current_player} wins!\")\n",
    "            root.destroy()\n",
    "        elif is_tie():\n",
    "            messagebox.showinfo(\"Tic Tac Toe\", \"Tie game!\")\n",
    "            root.destroy()\n",
    "        else:\n",
    "            current_player = \"O\" if current_player == \"X\" else \"X\""
   ]
  },
  {
   "cell_type": "code",
   "execution_count": 23,
   "id": "2f828de1",
   "metadata": {},
   "outputs": [],
   "source": [
    "# Create the function to check if a player has won\n",
    "def has_won(player):\n",
    "    for i in range(3):\n",
    "        # Check rows\n",
    "        if (buttons[i][0][\"text\"] == player and\n",
    "            buttons[i][1][\"text\"] == player and\n",
    "            buttons[i][2][\"text\"] == player):\n",
    "            return True\n",
    "        # Check columns\n",
    "        elif (buttons[0][i][\"text\"] == player and\n",
    "              buttons[1][i][\"text\"] == player and\n",
    "              buttons[2][i][\"text\"] == player):\n",
    "            return True\n",
    "    # Check diagonals\n",
    "    if (buttons[0][0][\"text\"] == player and\n",
    "        buttons[1][1][\"text\"] == player and\n",
    "        buttons[2][2][\"text\"] == player):\n",
    "        return True\n",
    "    elif (buttons[0][2][\"text\"] == player and\n",
    "          buttons[1][1][\"text\"] == player and\n",
    "          buttons[2][0][\"text\"] == player):\n",
    "        return True\n",
    "    return False"
   ]
  },
  {
   "cell_type": "code",
   "execution_count": 24,
   "id": "a850a7aa",
   "metadata": {},
   "outputs": [],
   "source": [
    "# Create the function to check if the game is a tie\n",
    "def is_tie():\n",
    "    for row in buttons:\n",
    "        for button in row:\n",
    "            if button[\"text\"] == \" \":\n",
    "                return False\n",
    "    return True\n"
   ]
  },
  {
   "cell_type": "code",
   "execution_count": 25,
   "id": "936cef23",
   "metadata": {},
   "outputs": [],
   "source": [
    "# Run the GUI\n",
    "root.mainloop()\n"
   ]
  },
  {
   "cell_type": "code",
   "execution_count": null,
   "id": "f7c4b334",
   "metadata": {},
   "outputs": [],
   "source": []
  }
 ],
 "metadata": {
  "kernelspec": {
   "display_name": "Python 3 (ipykernel)",
   "language": "python",
   "name": "python3"
  },
  "language_info": {
   "codemirror_mode": {
    "name": "ipython",
    "version": 3
   },
   "file_extension": ".py",
   "mimetype": "text/x-python",
   "name": "python",
   "nbconvert_exporter": "python",
   "pygments_lexer": "ipython3",
   "version": "3.9.13"
  }
 },
 "nbformat": 4,
 "nbformat_minor": 5
}
